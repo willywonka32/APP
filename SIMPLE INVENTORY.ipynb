{
 "cells": [
  {
   "cell_type": "code",
   "execution_count": 1,
   "metadata": {},
   "outputs": [],
   "source": [
    "from tkinter import *\n",
    "import sqlite3\n",
    "import tkinter.messagebox\n",
    "root=Tk()\n",
    "root.title(\"INVENTORY\")\n",
    "root.geometry(\"500x400\")\n",
    "def exitt():\n",
    "    exit()\n",
    "def database():\n",
    "    name1=row1_868.get()\n",
    "    name2=row2_868.get()\n",
    "    name3=row3_868.get()\n",
    "    name4=row4_868.get()\n",
    "    name5=row5_868.get()    \n",
    "    \n",
    "    conn=sqlite3.connect(\"stock.db\")\n",
    "    with conn:\n",
    "        cursor=conn.cursor()\n",
    "    cursor.execute('CREATE TABLE IF NOT EXISTS INVENTORY(serial_number TEXT,item1 TEXT,item2 TEXT,item3 TEXT,item4 TEXT)')\n",
    "    cursor.execute('INSERT INTO INVENTORY(serial_number,item1,item2,item3,item4) VALUES (?,?,?,?,?)' , (name1,name2,name3,name4,name5))\n",
    "    conn.commit()\n",
    " \n",
    "Label(root, text=\"INVENTORY\", font=(\"lato 25 bold\"), pady=10).grid(row=0, column=0)\n",
    "#RA1911003010868\n",
    "Label(root, text=\"RA1911003010868\", font=(\"lato 25 bold\"), pady=10).grid(row=1, column=0)\n",
    "row1_868=StringVar()\n",
    " \n",
    "Label(root, text=\"enter serial number\", pady=5).grid(row=2, column=0,sticky=W)\n",
    "Entry(root,textvar=row1_868, width=20).grid(row=2, column=1)\n",
    " \n",
    "row2_868=StringVar()\n",
    "Label(root, text=\"enter first item\", pady=5).grid(row=3, column=0,sticky=W)\n",
    "Entry(root,textvar=row2_868, width=20).grid(row=3, column=1)\n",
    " \n",
    "row3_868=StringVar()\n",
    "Label(root, text=\"enter second item\", pady=5).grid(row=4, column=0,sticky=W)\n",
    "Entry(root,textvar=row3_868, width=20).grid(row=4, column=1)\n",
    "row4_868= StringVar()\n",
    "Label(root, text=\"enter third item\", pady=5).grid(row=5, column=0,sticky=W)\n",
    "Entry(root,textvar=row4_868, width=20).grid(row=5, column=1)\n",
    " \n",
    "row5_868= StringVar()\n",
    "Label(root, text=\"enter fourth item\", pady=5).grid(row=6, column=0,sticky=W)\n",
    "Entry(root, textvar=row5_868,width=20).grid(row=6, column=1)\n",
    " \n",
    "but1_868=Button(text=\"Submit\", width=12, height=2,  bg=\"grey\",font=(\"Arial\", 12), command=database)\n",
    "but1_868.place(x=100, y=300)\n",
    "root.bind(\"<Return>\", database)\n",
    " \n",
    "but2_868=Button(text=\"Exit\", width=12, height=2, bg=\"grey\", font=(\"Arial\",12), command=exitt)\n",
    "but2_868.place(x=300, y=300)\n",
    " \n",
    "root.mainloop()"
   ]
  },
  {
   "cell_type": "code",
   "execution_count": null,
   "metadata": {},
   "outputs": [],
   "source": []
  }
 ],
 "metadata": {
  "kernelspec": {
   "display_name": "Python 3",
   "language": "python",
   "name": "python3"
  },
  "language_info": {
   "codemirror_mode": {
    "name": "ipython",
    "version": 3
   },
   "file_extension": ".py",
   "mimetype": "text/x-python",
   "name": "python",
   "nbconvert_exporter": "python",
   "pygments_lexer": "ipython3",
   "version": "3.8.5"
  }
 },
 "nbformat": 4,
 "nbformat_minor": 4
}
