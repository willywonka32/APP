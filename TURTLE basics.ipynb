{
 "cells": [
  {
   "cell_type": "code",
   "execution_count": null,
   "metadata": {},
   "outputs": [],
   "source": [
    "pip install db-sqlite3"
   ]
  },
  {
   "cell_type": "code",
   "execution_count": null,
   "metadata": {},
   "outputs": [],
   "source": [
    "import turtle\n",
    "\n",
    "turtle.setup(400,500)\n",
    "wn = turtle.Screen()\n",
    "wn.title(\"Using a timer to get events!\")\n",
    "wn.bgcolor(\"lightgreen\")\n",
    "\n",
    "tess = turtle.Turtle()\n",
    "tess.color(\"purple\")\n",
    "\n",
    "def h1():\n",
    "    tess.forward(100)\n",
    "    tess.left(56)\n",
    "    wn.ontimer(h1, 6000)\n",
    "\n",
    "h1()\n",
    "wn.mainloop()"
   ]
  },
  {
   "cell_type": "code",
   "execution_count": null,
   "metadata": {},
   "outputs": [],
   "source": [
    "import turtle\n",
    "\n",
    "turtle.setup(400,500)\n",
    "wn = turtle.Screen()\n",
    "wn.title(\"How to handle mouse clicks on the window!\")\n",
    "wn.bgcolor(\"lightgreen\")\n",
    "\n",
    "tess = turtle.Turtle()\n",
    "tess.color(\"purple\")\n",
    "tess.pensize(3)\n",
    "tess.shape(\"circle\")\n",
    "\n",
    "def h1(x, y):\n",
    "    tess.goto(x, y)\n",
    "\n",
    "wn.onclick(h1)  # Wire up a click on the window.\n",
    "wn.mainloop()"
   ]
  },
  {
   "cell_type": "code",
   "execution_count": null,
   "metadata": {},
   "outputs": [],
   "source": [
    "import turtle\n",
    " \n",
    "turtle.setup(400,500)\n",
    "wn = turtle.Screen() \n",
    "wn.title(\"Handling keypresses!\") \n",
    "wn.bgcolor(\"lightgreen\")\n",
    "tess = turtle.Turtle() \n",
    " \n",
    "def h1():\n",
    "  tess.forward(30)\n",
    " \n",
    "def h2():\n",
    " tess.left(45)\n",
    " \n",
    "def h3():\n",
    "   tess.right(45)\n",
    " \n",
    "def h4():\n",
    "   wn.bye() \n",
    "wn.onkey(h1, \"Up\")\n",
    "wn.onkey(h2, \"Left\")\n",
    "wn.onkey(h3, \"Right\")\n",
    "wn.onkey(h4, \"q\")\n",
    "wn.listen()\n",
    "wn.mainloop()"
   ]
  },
  {
   "cell_type": "code",
   "execution_count": null,
   "metadata": {},
   "outputs": [],
   "source": [
    "import turtle\n",
    "\n",
    "turtle.setup(400,500)              # Determine the window size\n",
    "wn = turtle.Screen()               # Get a reference to the window\n",
    "wn.title(\"Handling mouse clicks!\") # Change the window title\n",
    "wn.bgcolor(\"lightgreen\")           # Set the background color\n",
    "tess = turtle.Turtle()             # Create two turtles\n",
    "tess.color(\"purple\")\n",
    "alex = turtle.Turtle()             # Move them apart\n",
    "alex.color(\"blue\")\n",
    "alex.forward(100)\n",
    "\n",
    "def handler_for_tess(x, y):\n",
    "    wn.title(\"Tess clicked at \"+str(x)+\",\"+str(y))\n",
    "    tess.left(42)\n",
    "    tess.forward(30)\n",
    "\n",
    "def handler_for_alex(x, y):\n",
    "    wn.title(\"Alex clicked at \"+str(x)+\",\"+str(y))\n",
    "    alex.right(84)\n",
    "    alex.forward(50)\n",
    "\n",
    "tess.onclick(handler_for_tess)\n",
    "alex.onclick(handler_for_alex)\n",
    "\n",
    "wn.mainloop()"
   ]
  },
  {
   "cell_type": "code",
   "execution_count": null,
   "metadata": {},
   "outputs": [],
   "source": []
  },
  {
   "cell_type": "code",
   "execution_count": null,
   "metadata": {},
   "outputs": [],
   "source": []
  }
 ],
 "metadata": {
  "kernelspec": {
   "display_name": "Python 3",
   "language": "python",
   "name": "python3"
  },
  "language_info": {
   "codemirror_mode": {
    "name": "ipython",
    "version": 3
   },
   "file_extension": ".py",
   "mimetype": "text/x-python",
   "name": "python",
   "nbconvert_exporter": "python",
   "pygments_lexer": "ipython3",
   "version": "3.8.5"
  }
 },
 "nbformat": 4,
 "nbformat_minor": 4
}
