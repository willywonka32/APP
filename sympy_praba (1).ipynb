{
  "nbformat": 4,
  "nbformat_minor": 0,
  "metadata": {
    "kernelspec": {
      "display_name": "Python 3",
      "language": "python",
      "name": "python3"
    },
    "language_info": {
      "codemirror_mode": {
        "name": "ipython",
        "version": 3
      },
      "file_extension": ".py",
      "mimetype": "text/x-python",
      "name": "python",
      "nbconvert_exporter": "python",
      "pygments_lexer": "ipython3",
      "version": "3.6.6"
    },
    "colab": {
      "name": "sympy_praba.ipynb",
      "provenance": []
    }
  },
  "cells": [
    {
      "cell_type": "markdown",
      "metadata": {
        "id": "gR3CUV90LnNy"
      },
      "source": [
        "Sympy"
      ]
    },
    {
      "cell_type": "markdown",
      "metadata": {
        "id": "eCAvWLbFLnN2"
      },
      "source": [
        "## import/initialize"
      ]
    },
    {
      "cell_type": "code",
      "metadata": {
        "id": "fxK5xJa3LnN3"
      },
      "source": [
        "import sympy as sp\n",
        "%matplotlib inline\n",
        "sp.init_printing() # print expressions nicely (math looking)"
      ],
      "execution_count": null,
      "outputs": []
    },
    {
      "cell_type": "markdown",
      "metadata": {
        "id": "s4RFVqzKLnN4"
      },
      "source": [
        "## create symbols "
      ]
    },
    {
      "cell_type": "code",
      "metadata": {
        "id": "zettetB5LnN4"
      },
      "source": [
        "x, y, z = sp.symbols('x y z')\n",
        "display((x,y,z))"
      ],
      "execution_count": null,
      "outputs": []
    },
    {
      "cell_type": "markdown",
      "metadata": {
        "id": "PGatFWatLnN5"
      },
      "source": [
        "## create expressions"
      ]
    },
    {
      "cell_type": "code",
      "metadata": {
        "id": "Qbw2QI6qLnN6"
      },
      "source": [
        "# one variable\n",
        "expr = x**2\n",
        "expr"
      ],
      "execution_count": null,
      "outputs": []
    },
    {
      "cell_type": "code",
      "metadata": {
        "id": "CQTC22LkLnN6"
      },
      "source": [
        "# two variable (non implicit form)\n",
        "expr2 = sp.Eq(y,x**2)\n",
        "expr2"
      ],
      "execution_count": null,
      "outputs": []
    },
    {
      "cell_type": "code",
      "metadata": {
        "id": "p9T_YPbgLnN7"
      },
      "source": [
        "# two variable (implicit form)\n",
        "expr3 = y - x**2\n",
        "expr3"
      ],
      "execution_count": null,
      "outputs": []
    },
    {
      "cell_type": "markdown",
      "metadata": {
        "id": "gl1yb5ezLnN7"
      },
      "source": [
        "## plot expressions"
      ]
    },
    {
      "cell_type": "code",
      "metadata": {
        "id": "36emnuLhLnN8"
      },
      "source": [
        "# regular expression\n",
        "sp.plot(expr)"
      ],
      "execution_count": null,
      "outputs": []
    },
    {
      "cell_type": "code",
      "metadata": {
        "id": "0RRYCr7ILnN8"
      },
      "source": [
        "# implicit equation\n",
        "sp.plot_implicit(expr3)"
      ],
      "execution_count": null,
      "outputs": []
    },
    {
      "cell_type": "code",
      "metadata": {
        "id": "48T3lKXTLnN9"
      },
      "source": [
        "# 3d plot\n",
        "from sympy.plotting import plot3d\n",
        "plot3d(expr3)"
      ],
      "execution_count": null,
      "outputs": []
    },
    {
      "cell_type": "markdown",
      "metadata": {
        "id": "qXRoRsOELnN9"
      },
      "source": [
        "## substitute for symbol in expression"
      ]
    },
    {
      "cell_type": "code",
      "metadata": {
        "id": "VCd6x54pLnN9"
      },
      "source": [
        "expr3"
      ],
      "execution_count": null,
      "outputs": []
    },
    {
      "cell_type": "code",
      "metadata": {
        "id": "JGzIG5j_LnN-"
      },
      "source": [
        "expr3.subs(y,2) # replace a symbol with an actual number"
      ],
      "execution_count": null,
      "outputs": []
    },
    {
      "cell_type": "code",
      "metadata": {
        "id": "6pnMTzSzLnN-"
      },
      "source": [
        "expr3.subs(y,x**3) # replace a symbol with an entire expression"
      ],
      "execution_count": null,
      "outputs": []
    },
    {
      "cell_type": "markdown",
      "metadata": {
        "id": "AKuJoq2ZLnN_"
      },
      "source": [
        "## all sympy objects are immutable\n",
        "All sympy objects, except matrices, are immutable. Operations return a new object, they do not modify the original."
      ]
    },
    {
      "cell_type": "code",
      "metadata": {
        "id": "los4crX-LnOD"
      },
      "source": [
        "expr = 3*x\n",
        "expr"
      ],
      "execution_count": null,
      "outputs": []
    },
    {
      "cell_type": "code",
      "metadata": {
        "id": "MM0VA1OTLnOD"
      },
      "source": [
        "newExpr = expr.subs(x,x**2)\n",
        "newExpr"
      ],
      "execution_count": null,
      "outputs": []
    },
    {
      "cell_type": "code",
      "metadata": {
        "id": "sJNzqHNCLnOE"
      },
      "source": [
        "expr # original expression unchanged"
      ],
      "execution_count": null,
      "outputs": []
    },
    {
      "cell_type": "markdown",
      "metadata": {
        "id": "T_mCP1k1LnOE"
      },
      "source": [
        "## solve equation"
      ]
    },
    {
      "cell_type": "code",
      "metadata": {
        "id": "weXah-VfLnOE"
      },
      "source": [
        "expr = 3*x + 6\n",
        "expr"
      ],
      "execution_count": null,
      "outputs": []
    },
    {
      "cell_type": "code",
      "metadata": {
        "id": "C4JdvahVLnOF"
      },
      "source": [
        "sp.solveset(expr)"
      ],
      "execution_count": null,
      "outputs": []
    },
    {
      "cell_type": "markdown",
      "metadata": {
        "id": "hwtb5x0KLnOF"
      },
      "source": [
        "## solve linear system of equations"
      ]
    },
    {
      "cell_type": "code",
      "metadata": {
        "id": "I6K-1ltJLnOF"
      },
      "source": [
        "# use solveset for univariate equations and solveset for system of linear equations\n",
        "from sympy.solvers.solveset import linsolve\n",
        "\n",
        "# create the equations\n",
        "eq1 = sp.Eq(3*x + 4*y, 6) # 3x + 4y = 6\n",
        "eq2 = sp.Eq(5*x + 3*y, 7) # 5x + 3y = 7\n",
        "\n",
        "# put em in a list\n",
        "eqs = [eq1,eq2]\n",
        "\n",
        "# pass list to linsolve\n",
        "linsolve(eqs,(x,y))"
      ],
      "execution_count": null,
      "outputs": []
    },
    {
      "cell_type": "markdown",
      "metadata": {
        "id": "56Oq9_6yLnOG"
      },
      "source": [
        "## differentiate/integrate"
      ]
    },
    {
      "cell_type": "code",
      "metadata": {
        "id": "y0KLxOJKLnOG"
      },
      "source": [
        "# create an expression\n",
        "expr = 3*x**2\n",
        "expr"
      ],
      "execution_count": null,
      "outputs": []
    },
    {
      "cell_type": "code",
      "metadata": {
        "id": "LKDKHiVyLnOG"
      },
      "source": [
        "# differentiate w respect to x\n",
        "expr2 = expr.diff(x)\n",
        "expr2"
      ],
      "execution_count": null,
      "outputs": []
    },
    {
      "cell_type": "code",
      "metadata": {
        "id": "S2eUK01OLnOH"
      },
      "source": [
        "# integrate it back\n",
        "expr2.integrate(x)"
      ],
      "execution_count": null,
      "outputs": []
    },
    {
      "cell_type": "markdown",
      "metadata": {
        "id": "kBLw-AWCLnOH"
      },
      "source": [
        "## simplify"
      ]
    },
    {
      "cell_type": "code",
      "metadata": {
        "id": "RQOZOKSALnOH"
      },
      "source": [
        "# some simplifications (obvious ones) are done automatically\n",
        "expr = 3*x + 4*x + 5 # the x terms can be combined, this is done automatically\n",
        "expr"
      ],
      "execution_count": null,
      "outputs": []
    },
    {
      "cell_type": "code",
      "metadata": {
        "id": "IRKyMbrmLnOI"
      },
      "source": [
        "# to let sympy decide how to simplify - use simplify(expr)\n",
        "expr = sp.sin(x)**2 + sp.cos(x)**2\n",
        "expr"
      ],
      "execution_count": null,
      "outputs": []
    },
    {
      "cell_type": "code",
      "metadata": {
        "id": "HvT1j2UELnOI"
      },
      "source": [
        "sp.simplify(expr)"
      ],
      "execution_count": null,
      "outputs": []
    },
    {
      "cell_type": "code",
      "metadata": {
        "id": "LiaPDZo3LnOI"
      },
      "source": [
        "# expand(expr)\n",
        "expr = z*(x + y)\n",
        "expr"
      ],
      "execution_count": null,
      "outputs": []
    },
    {
      "cell_type": "code",
      "metadata": {
        "id": "MS9ZR5PXLnOJ"
      },
      "source": [
        "expr2 = sp.expand(expr)\n",
        "expr2"
      ],
      "execution_count": null,
      "outputs": []
    },
    {
      "cell_type": "code",
      "metadata": {
        "id": "wQ5AfbdHLnOJ"
      },
      "source": [
        "# factor(expr)\n",
        "sp.factor(expr2)"
      ],
      "execution_count": null,
      "outputs": []
    },
    {
      "cell_type": "markdown",
      "metadata": {
        "id": "kPWqUyYDLnOJ"
      },
      "source": [
        "## matrices"
      ]
    },
    {
      "cell_type": "markdown",
      "metadata": {
        "id": "06o-KYAbLnOK"
      },
      "source": [
        "### create matrix manually"
      ]
    },
    {
      "cell_type": "code",
      "metadata": {
        "id": "a_AigBGsLnOK"
      },
      "source": [
        "M = sp.Matrix([[1,0],\n",
        "               [0,1]])\n",
        "M"
      ],
      "execution_count": null,
      "outputs": []
    },
    {
      "cell_type": "markdown",
      "metadata": {
        "id": "V5OpfduULnOK"
      },
      "source": [
        "### create standard matrices automatically"
      ]
    },
    {
      "cell_type": "code",
      "metadata": {
        "id": "dcXhTCq3LnOK"
      },
      "source": [
        "# identity matrix\n",
        "M = sp.eye(2)\n",
        "M"
      ],
      "execution_count": null,
      "outputs": []
    },
    {
      "cell_type": "code",
      "metadata": {
        "id": "OBH163NoLnOL"
      },
      "source": [
        "# zero matrix\n",
        "M = sp.zeros(2,2)\n",
        "M"
      ],
      "execution_count": null,
      "outputs": []
    },
    {
      "cell_type": "markdown",
      "metadata": {
        "id": "z2XRNK6YLnOL"
      },
      "source": [
        "### scale matrix"
      ]
    },
    {
      "cell_type": "code",
      "metadata": {
        "id": "2NXVorv9LnOL"
      },
      "source": [
        "M = sp.eye(2)\n",
        "M"
      ],
      "execution_count": null,
      "outputs": []
    },
    {
      "cell_type": "code",
      "metadata": {
        "id": "fYvDVa5sLnOM"
      },
      "source": [
        "2*M"
      ],
      "execution_count": null,
      "outputs": []
    },
    {
      "cell_type": "markdown",
      "metadata": {
        "id": "c6p-QftfLnOM"
      },
      "source": [
        "### invert matrix"
      ]
    },
    {
      "cell_type": "code",
      "metadata": {
        "id": "6b79hLbWLnOM"
      },
      "source": [
        "M = sp.eye(2) * 2\n",
        "M"
      ],
      "execution_count": null,
      "outputs": []
    },
    {
      "cell_type": "code",
      "metadata": {
        "id": "NoVZvgXcLnOM"
      },
      "source": [
        "Minv = M**-1\n",
        "Minv"
      ],
      "execution_count": null,
      "outputs": []
    },
    {
      "cell_type": "markdown",
      "metadata": {
        "id": "STEi5DonLnON"
      },
      "source": [
        "### create column vector"
      ]
    },
    {
      "cell_type": "code",
      "metadata": {
        "id": "pvBPEfAaLnON"
      },
      "source": [
        "v = sp.Matrix([1,1])\n",
        "v"
      ],
      "execution_count": null,
      "outputs": []
    },
    {
      "cell_type": "markdown",
      "metadata": {
        "id": "4zBV8hyhLnON"
      },
      "source": [
        "### transform vector (i.e. matrix vector multiplication)"
      ]
    },
    {
      "cell_type": "code",
      "metadata": {
        "id": "eiZ0mF3YLnOO"
      },
      "source": [
        "M * v"
      ],
      "execution_count": null,
      "outputs": []
    },
    {
      "cell_type": "markdown",
      "metadata": {
        "id": "XIIpeN7RLnOO"
      },
      "source": [
        "### can use symbols in matrices as well"
      ]
    },
    {
      "cell_type": "code",
      "metadata": {
        "id": "kKoMta4VLnOO"
      },
      "source": [
        "a,b = sp.symbols('a b')\n",
        "\n",
        "M = sp.Matrix([[a,0],\n",
        "               [0,b]])\n",
        "M"
      ],
      "execution_count": null,
      "outputs": []
    },
    {
      "cell_type": "code",
      "metadata": {
        "id": "ma5NTo93LnOO"
      },
      "source": [
        "v = sp.Matrix([x,y])\n",
        "v"
      ],
      "execution_count": null,
      "outputs": []
    },
    {
      "cell_type": "code",
      "metadata": {
        "id": "4at9WV54LnOP"
      },
      "source": [
        "M*v"
      ],
      "execution_count": null,
      "outputs": []
    }
  ]
}