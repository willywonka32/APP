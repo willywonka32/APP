{
  "nbformat": 4,
  "nbformat_minor": 0,
  "metadata": {
    "colab": {
      "name": "SYMPY.ipynb",
      "provenance": []
    },
    "kernelspec": {
      "name": "python3",
      "display_name": "Python 3"
    },
    "language_info": {
      "name": "python"
    }
  },
  "cells": [
    {
      "cell_type": "markdown",
      "metadata": {
        "id": "xL4MzdjJagA0"
      },
      "source": [
        "\n",
        "https://www.tutorialspoint.com/sympy/sympy_evalf_function.htm\n",
        "\n",
        "\n",
        "\n",
        "https://docs.sympy.org/latest/modules/evalf.html"
      ]
    },
    {
      "cell_type": "markdown",
      "metadata": {
        "id": "ze73kaYDat0S"
      },
      "source": [
        "https://github.com/jrjohansson/scientific-python-lectures/blob/master/Lecture-5-Sympy.ipynb\n",
        "\n",
        "\n",
        "http://www.cs.put.poznan.pl/wjaskowski/pub/teaching/kck/lectures/notebooks/sympy-tutorial.html\n",
        "\n",
        "\n",
        "\n",
        "https://jupyter-jsc.fz-juelich.de/nbviewer/github/ipython/ipython/blob/6.x/examples/IPython%20Kernel/SymPy.ipynb\n"
      ]
    },
    {
      "cell_type": "code",
      "metadata": {
        "colab": {
          "base_uri": "https://localhost:8080/",
          "height": 51
        },
        "id": "vcKdsrnofgjA",
        "outputId": "d79b0d15-e329-4407-e2a1-b617acdbdb99"
      },
      "source": [
        "import sympy as sym\n",
        "a = sym.Rational(1, 2)\n",
        "a "
      ],
      "execution_count": null,
      "outputs": [
        {
          "output_type": "execute_result",
          "data": {
            "text/latex": "$\\displaystyle \\frac{1}{2}$",
            "text/plain": [
              "1/2"
            ]
          },
          "metadata": {
            "tags": []
          },
          "execution_count": 1
        }
      ]
    },
    {
      "cell_type": "code",
      "metadata": {
        "colab": {
          "base_uri": "https://localhost:8080/",
          "height": 37
        },
        "id": "TDCrqicfflRv",
        "outputId": "7d092ffb-2534-497f-929c-283db50d885b"
      },
      "source": [
        "sym.pi**2 \n",
        "sym.pi.evalf()\n",
        "(sym.pi + sym.exp(1)).evalf() "
      ],
      "execution_count": null,
      "outputs": [
        {
          "output_type": "execute_result",
          "data": {
            "text/latex": "$\\displaystyle 5.85987448204884$",
            "text/plain": [
              "5.85987448204884"
            ]
          },
          "metadata": {
            "tags": []
          },
          "execution_count": 2
        }
      ]
    },
    {
      "cell_type": "code",
      "metadata": {
        "colab": {
          "base_uri": "https://localhost:8080/",
          "height": 38
        },
        "id": "9e1jW_R3foto",
        "outputId": "3f358a4e-e28b-4123-e7f1-3c17d25df6f0"
      },
      "source": [
        " x = sym.Symbol('x')\n",
        " y = sym.Symbol('y')\n",
        " x + y + x - y "
      ],
      "execution_count": null,
      "outputs": [
        {
          "output_type": "execute_result",
          "data": {
            "text/latex": "$\\displaystyle 2 x$",
            "text/plain": [
              "2*x"
            ]
          },
          "metadata": {
            "tags": []
          },
          "execution_count": 3
        }
      ]
    },
    {
      "cell_type": "code",
      "metadata": {
        "colab": {
          "base_uri": "https://localhost:8080/",
          "height": 38
        },
        "id": "vjqhZoaOfsq9",
        "outputId": "19a3bb49-4744-4035-9e7b-437138f0d6fe"
      },
      "source": [
        "sym.expand((x + y) ** 3)\n",
        "3 * x * y ** 2 + 3 * y * x ** 2 + x ** 3 + y ** 3"
      ],
      "execution_count": null,
      "outputs": [
        {
          "output_type": "execute_result",
          "data": {
            "text/latex": "$\\displaystyle x^{3} + 3 x^{2} y + 3 x y^{2} + y^{3}$",
            "text/plain": [
              "x**3 + 3*x**2*y + 3*x*y**2 + y**3"
            ]
          },
          "metadata": {
            "tags": []
          },
          "execution_count": 4
        }
      ]
    },
    {
      "cell_type": "code",
      "metadata": {
        "colab": {
          "base_uri": "https://localhost:8080/",
          "height": 38
        },
        "id": "5Wcz9qujfwVL",
        "outputId": "c05987a4-ce66-4ece-b32e-dad0a70cd7b7"
      },
      "source": [
        "sym.expand(sym.cos(x + y), trig=True)"
      ],
      "execution_count": null,
      "outputs": [
        {
          "output_type": "execute_result",
          "data": {
            "text/latex": "$\\displaystyle - \\sin{\\left(x \\right)} \\sin{\\left(y \\right)} + \\cos{\\left(x \\right)} \\cos{\\left(y \\right)}$",
            "text/plain": [
              "-sin(x)*sin(y) + cos(x)*cos(y)"
            ]
          },
          "metadata": {
            "tags": []
          },
          "execution_count": 5
        }
      ]
    },
    {
      "cell_type": "code",
      "metadata": {
        "colab": {
          "base_uri": "https://localhost:8080/",
          "height": 38
        },
        "id": "SaLFSf11fy9n",
        "outputId": "da0086d1-5cf0-4ef8-fc38-1840029c6f85"
      },
      "source": [
        "sym.simplify((x + x * y) / x)"
      ],
      "execution_count": null,
      "outputs": [
        {
          "output_type": "execute_result",
          "data": {
            "text/latex": "$\\displaystyle y + 1$",
            "text/plain": [
              "y + 1"
            ]
          },
          "metadata": {
            "tags": []
          },
          "execution_count": 6
        }
      ]
    },
    {
      "cell_type": "code",
      "metadata": {
        "id": "C1SnH7HWgAmk"
      },
      "source": [
        "from IPython.display import display\n",
        "\n",
        "from sympy.interactive import printing\n",
        "printing.init_printing(use_latex='mathjax')\n",
        "\n",
        "from __future__ import division\n",
        "import sympy as sym\n",
        "from sympy import *\n",
        "x, y, z = symbols(\"x y z\")\n",
        "k, m, n = symbols(\"k m n\", integer=True)\n",
        "f, g, h = map(Function, 'fgh')"
      ],
      "execution_count": null,
      "outputs": []
    },
    {
      "cell_type": "code",
      "metadata": {
        "colab": {
          "base_uri": "https://localhost:8080/",
          "height": 57
        },
        "id": "FnsPSE4VgKho",
        "outputId": "37f49a6f-4d96-42fb-a257-c259a24c1fd7"
      },
      "source": [
        "Rational(3,2)*pi + exp(I*x) / (x**2 + y)"
      ],
      "execution_count": null,
      "outputs": [
        {
          "output_type": "execute_result",
          "data": {
            "text/latex": "$\\displaystyle \\frac{3 \\pi}{2} + \\frac{e^{i x}}{x^{2} + y}$",
            "text/plain": [
              "        ⅈ⋅x \n",
              "3⋅π    ℯ    \n",
              "─── + ──────\n",
              " 2     2    \n",
              "      x  + y"
            ]
          },
          "metadata": {
            "tags": []
          },
          "execution_count": 8
        }
      ]
    },
    {
      "cell_type": "code",
      "metadata": {
        "colab": {
          "base_uri": "https://localhost:8080/",
          "height": 37
        },
        "id": "oWjpg6j4gMEJ",
        "outputId": "d049de53-90c2-41f8-b875-342819082709"
      },
      "source": [
        "exp(I*x).subs(x,pi).evalf()"
      ],
      "execution_count": null,
      "outputs": [
        {
          "output_type": "execute_result",
          "data": {
            "text/latex": "$\\displaystyle -1.0$",
            "text/plain": [
              "-1.00000000000000"
            ]
          },
          "metadata": {
            "tags": []
          },
          "execution_count": 9
        }
      ]
    },
    {
      "cell_type": "code",
      "metadata": {
        "colab": {
          "base_uri": "https://localhost:8080/",
          "height": 37
        },
        "id": "dPiyZneMgSEN",
        "outputId": "bca3916a-67db-45dd-c8a9-612212bfc30e"
      },
      "source": [
        "e = x + 2*y\n",
        "srepr(e)\n",
        "exp(pi * sqrt(163)).evalf(50)"
      ],
      "execution_count": null,
      "outputs": [
        {
          "output_type": "execute_result",
          "data": {
            "text/latex": "$\\displaystyle 262537412640768743.99999999999925007259719818568888$",
            "text/plain": [
              "262537412640768743.99999999999925007259719818568888"
            ]
          },
          "metadata": {
            "tags": []
          },
          "execution_count": 12
        }
      ]
    },
    {
      "cell_type": "code",
      "metadata": {
        "colab": {
          "base_uri": "https://localhost:8080/",
          "height": 39
        },
        "id": "pMQOM0OVgfK1",
        "outputId": "0bed58ce-d681-400b-c5fc-8f6033cc6ba9"
      },
      "source": [
        "eq = ((x+y)**2 * (x+1))\n",
        "eq"
      ],
      "execution_count": null,
      "outputs": [
        {
          "output_type": "execute_result",
          "data": {
            "text/latex": "$\\displaystyle \\left(x + 1\\right) \\left(x + y\\right)^{2}$",
            "text/plain": [
              "               2\n",
              "(x + 1)⋅(x + y) "
            ]
          },
          "metadata": {
            "tags": []
          },
          "execution_count": 13
        }
      ]
    },
    {
      "cell_type": "code",
      "metadata": {
        "colab": {
          "base_uri": "https://localhost:8080/",
          "height": 38
        },
        "id": "Nc7j6kWtgkqJ",
        "outputId": "b8cead7e-0af2-4299-ecd5-1690aa9a4175"
      },
      "source": [
        "expand(eq)"
      ],
      "execution_count": null,
      "outputs": [
        {
          "output_type": "execute_result",
          "data": {
            "text/latex": "$\\displaystyle x^{3} + 2 x^{2} y + x^{2} + x y^{2} + 2 x y + y^{2}$",
            "text/plain": [
              " 3      2      2      2            2\n",
              "x  + 2⋅x ⋅y + x  + x⋅y  + 2⋅x⋅y + y "
            ]
          },
          "metadata": {
            "tags": []
          },
          "execution_count": 14
        }
      ]
    },
    {
      "cell_type": "code",
      "metadata": {
        "colab": {
          "base_uri": "https://localhost:8080/",
          "height": 53
        },
        "id": "CggjfILdgpIF",
        "outputId": "0ad4aa1f-c1c5-4d61-a946-9c1273eeb8b8"
      },
      "source": [
        "a = 1/x + (x*sin(x) - 1)/x\n",
        "a"
      ],
      "execution_count": null,
      "outputs": [
        {
          "output_type": "execute_result",
          "data": {
            "text/latex": "$\\displaystyle \\frac{x \\sin{\\left(x \\right)} - 1}{x} + \\frac{1}{x}$",
            "text/plain": [
              "x⋅sin(x) - 1   1\n",
              "──────────── + ─\n",
              "     x         x"
            ]
          },
          "metadata": {
            "tags": []
          },
          "execution_count": 15
        }
      ]
    },
    {
      "cell_type": "code",
      "metadata": {
        "colab": {
          "base_uri": "https://localhost:8080/",
          "height": 38
        },
        "id": "lRgQV6L7gsjk",
        "outputId": "43fc99be-8ad6-44b0-8cd1-25af258dc870"
      },
      "source": [
        "simplify(a)"
      ],
      "execution_count": null,
      "outputs": [
        {
          "output_type": "execute_result",
          "data": {
            "text/latex": "$\\displaystyle \\sin{\\left(x \\right)}$",
            "text/plain": [
              "sin(x)"
            ]
          },
          "metadata": {
            "tags": []
          },
          "execution_count": 16
        }
      ]
    },
    {
      "cell_type": "code",
      "metadata": {
        "colab": {
          "base_uri": "https://localhost:8080/",
          "height": 38
        },
        "id": "w-uNMYlVgv0g",
        "outputId": "1fed3321-1dd2-430e-ea94-e6d9f0cf3259"
      },
      "source": [
        "eq = Eq(x**3 + 2*x**2 + 4*x + 8, 0)\n",
        "eq"
      ],
      "execution_count": null,
      "outputs": [
        {
          "output_type": "execute_result",
          "data": {
            "text/latex": "$\\displaystyle x^{3} + 2 x^{2} + 4 x + 8 = 0$",
            "text/plain": [
              " 3      2              \n",
              "x  + 2⋅x  + 4⋅x + 8 = 0"
            ]
          },
          "metadata": {
            "tags": []
          },
          "execution_count": 17
        }
      ]
    },
    {
      "cell_type": "code",
      "metadata": {
        "colab": {
          "base_uri": "https://localhost:8080/",
          "height": 38
        },
        "id": "Qtk_5fgFgyxZ",
        "outputId": "51189c20-5bb0-48d8-ab26-714db2f0732d"
      },
      "source": [
        "solve(eq, x)"
      ],
      "execution_count": null,
      "outputs": [
        {
          "output_type": "execute_result",
          "data": {
            "text/latex": "$\\displaystyle \\left[ -2, \\  - 2 i, \\  2 i\\right]$",
            "text/plain": [
              "[-2, -2⋅ⅈ, 2⋅ⅈ]"
            ]
          },
          "metadata": {
            "tags": []
          },
          "execution_count": 18
        }
      ]
    },
    {
      "cell_type": "code",
      "metadata": {
        "colab": {
          "base_uri": "https://localhost:8080/",
          "height": 69
        },
        "id": "98h4fXwIg0aY",
        "outputId": "3884070b-5e36-4a0d-fedb-e989ed6c9e12"
      },
      "source": [
        "a, b = symbols('a b')\n",
        "Sum(6*n**2 + 2**n, (n, a, b))"
      ],
      "execution_count": null,
      "outputs": [
        {
          "output_type": "execute_result",
          "data": {
            "text/latex": "$\\displaystyle \\sum_{n=a}^{b} \\left(2^{n} + 6 n^{2}\\right)$",
            "text/plain": [
              "  b              \n",
              " ___             \n",
              " ╲               \n",
              "  ╲   ⎛ n      2⎞\n",
              "  ╱   ⎝2  + 6⋅n ⎠\n",
              " ╱               \n",
              " ‾‾‾             \n",
              "n = a            "
            ]
          },
          "metadata": {
            "tags": []
          },
          "execution_count": 19
        }
      ]
    },
    {
      "cell_type": "code",
      "metadata": {
        "colab": {
          "base_uri": "https://localhost:8080/",
          "height": 51
        },
        "id": "aJBvPR9wg6id",
        "outputId": "9d6cb313-1702-48ef-8fab-f96adda2dce2"
      },
      "source": [
        "limit((sin(x)-x)/x**3, x, 0)"
      ],
      "execution_count": null,
      "outputs": [
        {
          "output_type": "execute_result",
          "data": {
            "text/latex": "$\\displaystyle - \\frac{1}{6}$",
            "text/plain": [
              "-1/6"
            ]
          },
          "metadata": {
            "tags": []
          },
          "execution_count": 20
        }
      ]
    },
    {
      "cell_type": "code",
      "metadata": {
        "colab": {
          "base_uri": "https://localhost:8080/",
          "height": 54
        },
        "id": "e4wJPYGAg8TC",
        "outputId": "91eb8bda-82c6-411f-be58-7c5d03e0a39f"
      },
      "source": [
        "(1/cos(x)).series(x, 0, 6)"
      ],
      "execution_count": null,
      "outputs": [
        {
          "output_type": "execute_result",
          "data": {
            "text/latex": "$\\displaystyle 1 + \\frac{x^{2}}{2} + \\frac{5 x^{4}}{24} + O\\left(x^{6}\\right)$",
            "text/plain": [
              "     2      4        \n",
              "    x    5⋅x     ⎛ 6⎞\n",
              "1 + ── + ──── + O⎝x ⎠\n",
              "    2     24         "
            ]
          },
          "metadata": {
            "tags": []
          },
          "execution_count": 21
        }
      ]
    },
    {
      "cell_type": "code",
      "metadata": {
        "colab": {
          "base_uri": "https://localhost:8080/",
          "height": 63
        },
        "id": "PEg3uXN-hAuL",
        "outputId": "9f7dd07b-538e-42e0-a0c2-b7dbdeaaed08"
      },
      "source": [
        "diff(cos(x**2)**2 / (1+x), x)"
      ],
      "execution_count": null,
      "outputs": [
        {
          "output_type": "execute_result",
          "data": {
            "text/latex": "$\\displaystyle - \\frac{4 x \\sin{\\left(x^{2} \\right)} \\cos{\\left(x^{2} \\right)}}{x + 1} - \\frac{\\cos^{2}{\\left(x^{2} \\right)}}{\\left(x + 1\\right)^{2}}$",
            "text/plain": [
              "         ⎛ 2⎞    ⎛ 2⎞      2⎛ 2⎞\n",
              "  4⋅x⋅sin⎝x ⎠⋅cos⎝x ⎠   cos ⎝x ⎠\n",
              "- ─────────────────── - ────────\n",
              "         x + 1                 2\n",
              "                        (x + 1) "
            ]
          },
          "metadata": {
            "tags": []
          },
          "execution_count": 22
        }
      ]
    },
    {
      "cell_type": "code",
      "metadata": {
        "colab": {
          "base_uri": "https://localhost:8080/",
          "height": 54
        },
        "id": "TsWXU8aohDom",
        "outputId": "2f42b0d8-d586-4bd4-8c7c-0e0bf2a9cde2"
      },
      "source": [
        "integrate(x**2 * cos(x), (x, 0, pi/2))"
      ],
      "execution_count": null,
      "outputs": [
        {
          "output_type": "execute_result",
          "data": {
            "text/latex": "$\\displaystyle -2 + \\frac{\\pi^{2}}{4}$",
            "text/plain": [
              "      2\n",
              "     π \n",
              "-2 + ──\n",
              "     4 "
            ]
          },
          "metadata": {
            "tags": []
          },
          "execution_count": 23
        }
      ]
    },
    {
      "cell_type": "code",
      "metadata": {
        "colab": {
          "base_uri": "https://localhost:8080/",
          "height": 89
        },
        "id": "hVSnopnKhGHj",
        "outputId": "302699f9-5a25-47f9-d603-43c62dbfba47"
      },
      "source": [
        "eqn = Eq(Derivative(f(x),x,x) + 9*f(x), 1)\n",
        "display(eqn)\n",
        "dsolve(eqn, f(x))"
      ],
      "execution_count": null,
      "outputs": [
        {
          "output_type": "display_data",
          "data": {
            "text/latex": "$\\displaystyle 9 f{\\left(x \\right)} + \\frac{d^{2}}{d x^{2}} f{\\left(x \\right)} = 1$",
            "text/plain": [
              "           2          \n",
              "          d           \n",
              "9⋅f(x) + ───(f(x)) = 1\n",
              "           2          \n",
              "         dx           "
            ]
          },
          "metadata": {
            "tags": []
          }
        },
        {
          "output_type": "execute_result",
          "data": {
            "text/latex": "$\\displaystyle f{\\left(x \\right)} = C_{1} \\sin{\\left(3 x \\right)} + C_{2} \\cos{\\left(3 x \\right)} + \\frac{1}{9}$",
            "text/plain": [
              "f(x) = C₁⋅sin(3⋅x) + C₂⋅cos(3⋅x) + 1/9"
            ]
          },
          "metadata": {
            "tags": []
          },
          "execution_count": 24
        }
      ]
    }
  ]
}