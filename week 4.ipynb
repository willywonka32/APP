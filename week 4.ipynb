{
 "cells": [
  {
   "cell_type": "code",
   "execution_count": 2,
   "metadata": {},
   "outputs": [],
   "source": [
    "from tkinter import*\n",
    "from tkinter import ttk"
   ]
  },
  {
   "cell_type": "code",
   "execution_count": 3,
   "metadata": {},
   "outputs": [],
   "source": [
    "root=Tk()\n",
    "#making the labels\n",
    "booking_label=Label(root,text='Bookingid')\n",
    "p_name_label=Label(root,text='Passenger Name:')\n",
    "flight_label=Label(root,text='Flight')\n",
    "source_label=Label(root,text='Source')\n",
    "destination_label=Label(root,text='Destination')\n",
    "duration_label=Label(root,text='Duration')\n",
    "#creating entry\n",
    "booking_entry=Entry(root)\n",
    "p_name_entry=Entry(root)\n",
    "flight_entry=Entry(root)\n",
    "flight_entry.insert(END,'IND345')\n",
    "\n",
    "#gridding labels\n",
    "booking_label.grid(row=0,column=0)\n",
    "p_name_label.grid(row=1,column=0)\n",
    "flight_label.grid(row=2,column=0)\n",
    "source_label.grid(row=3,column=0)\n",
    "destination_label.grid(row=3,column=3)\n",
    "duration_label.grid(row=4,column=0,padx=25)\n",
    "\n",
    "#grdding entry\n",
    "booking_entry.grid(row=0,column=1)\n",
    "p_name_entry.grid(row=1,column=1,padx=10)\n",
    "flight_entry.grid(row=2,column=1)\n",
    "\n",
    "#creating radio button\n",
    "r1=IntVar()\n",
    "delhi=Radiobutton(root,text='Delhi',variable=r1,value=1)\n",
    "mumbai=Radiobutton(root,text='Mumbai',variable=r1,value=2)\n",
    "chennai=Radiobutton(root,text='Chennai',variable=r1,value=3)\n",
    "kolkata=Radiobutton(root,text='Kolkata',variable=r1,value=4)\n",
    "delhi.grid(row=3,column=1)\n",
    "mumbai.grid(row=3,column=2)\n",
    "chennai.grid(row=3,column=4)\n",
    "kolkata.grid(row=3,column=5)\n",
    "\n",
    "#creating spinbox\n",
    "spinbox=Spinbox(root,from_=0, to=30, increment=2,font=(\"Helvetica\",10))\n",
    "spinbox.grid(row=4,column=1)\n",
    "\n",
    "#creating button\n",
    "insert_button=Button(root,text='Insert')\n",
    "update_button=Button(root,text='Update')\n",
    "delete_button=Button(root,text='Delete')\n",
    "select_button=Button(root,text='Select')\n",
    "\n",
    "insert_button.grid(row=5,column=0)\n",
    "update_button.grid(row=5,column=1)\n",
    "delete_button.grid(row=6,column=0)\n",
    "select_button.grid(row=6,column=1)\n",
    "root.mainloop()"
   ]
  },
  {
   "cell_type": "code",
   "execution_count": null,
   "metadata": {},
   "outputs": [],
   "source": []
  }
 ],
 "metadata": {
  "kernelspec": {
   "display_name": "Python 3",
   "language": "python",
   "name": "python3"
  },
  "language_info": {
   "codemirror_mode": {
    "name": "ipython",
    "version": 3
   },
   "file_extension": ".py",
   "mimetype": "text/x-python",
   "name": "python",
   "nbconvert_exporter": "python",
   "pygments_lexer": "ipython3",
   "version": "3.8.5"
  }
 },
 "nbformat": 4,
 "nbformat_minor": 4
}
